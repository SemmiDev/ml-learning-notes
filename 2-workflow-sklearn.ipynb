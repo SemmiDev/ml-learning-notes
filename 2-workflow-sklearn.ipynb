{
 "cells": [
  {
   "cell_type": "code",
   "execution_count": 3,
   "metadata": {
    "collapsed": true
   },
   "outputs": [],
   "source": [
    "# load dataset\n",
    "from sklearn.datasets import load_iris\n",
    "iris = load_iris()\n",
    "x = iris.data # features\n",
    "y = iris.target # target"
   ]
  },
  {
   "cell_type": "code",
   "execution_count": 11,
   "outputs": [
    {
     "data": {
      "text/plain": "array([[5.8, 4. , 1.2, 0.2],\n       [5.1, 2.5, 3. , 1.1],\n       [6.6, 3. , 4.4, 1.4],\n       [5.4, 3.9, 1.3, 0.4],\n       [7.9, 3.8, 6.4, 2. ],\n       [6.3, 3.3, 4.7, 1.6],\n       [6.9, 3.1, 5.1, 2.3],\n       [5.1, 3.8, 1.9, 0.4],\n       [4.7, 3.2, 1.6, 0.2],\n       [6.9, 3.2, 5.7, 2.3],\n       [5.6, 2.7, 4.2, 1.3],\n       [5.4, 3.9, 1.7, 0.4],\n       [7.1, 3. , 5.9, 2.1],\n       [6.4, 3.2, 4.5, 1.5],\n       [6. , 2.9, 4.5, 1.5],\n       [4.4, 3.2, 1.3, 0.2],\n       [5.8, 2.6, 4. , 1.2],\n       [5.6, 3. , 4.5, 1.5],\n       [5.4, 3.4, 1.5, 0.4],\n       [5. , 3.2, 1.2, 0.2],\n       [5.5, 2.6, 4.4, 1.2],\n       [5.4, 3. , 4.5, 1.5],\n       [6.7, 3. , 5. , 1.7],\n       [5. , 3.5, 1.3, 0.3],\n       [7.2, 3.2, 6. , 1.8],\n       [5.7, 2.8, 4.1, 1.3],\n       [5.5, 4.2, 1.4, 0.2],\n       [5.1, 3.8, 1.5, 0.3],\n       [6.1, 2.8, 4.7, 1.2],\n       [6.3, 2.5, 5. , 1.9],\n       [6.1, 3. , 4.6, 1.4],\n       [7.7, 3. , 6.1, 2.3],\n       [5.6, 2.5, 3.9, 1.1],\n       [6.4, 2.8, 5.6, 2.1],\n       [5.8, 2.8, 5.1, 2.4],\n       [5.3, 3.7, 1.5, 0.2],\n       [5.5, 2.3, 4. , 1.3],\n       [5.2, 3.4, 1.4, 0.2],\n       [6.5, 2.8, 4.6, 1.5],\n       [6.7, 2.5, 5.8, 1.8],\n       [6.8, 3. , 5.5, 2.1],\n       [5.1, 3.5, 1.4, 0.3],\n       [6. , 2.2, 5. , 1.5],\n       [6.3, 2.9, 5.6, 1.8],\n       [6.6, 2.9, 4.6, 1.3],\n       [7.7, 2.6, 6.9, 2.3],\n       [5.7, 3.8, 1.7, 0.3],\n       [5. , 3.6, 1.4, 0.2],\n       [4.8, 3. , 1.4, 0.3],\n       [5.2, 2.7, 3.9, 1.4],\n       [5.1, 3.4, 1.5, 0.2],\n       [5.5, 3.5, 1.3, 0.2],\n       [7.7, 3.8, 6.7, 2.2],\n       [6.9, 3.1, 5.4, 2.1],\n       [7.3, 2.9, 6.3, 1.8],\n       [6.4, 2.8, 5.6, 2.2],\n       [6.2, 2.8, 4.8, 1.8],\n       [6. , 3.4, 4.5, 1.6],\n       [7.7, 2.8, 6.7, 2. ],\n       [5.7, 3. , 4.2, 1.2]])"
     },
     "execution_count": 11,
     "metadata": {},
     "output_type": "execute_result"
    }
   ],
   "source": [
    "from sklearn.model_selection import train_test_split\n",
    "\n",
    "x_train, x_test, y_train, y_test = train_test_split(x,y,test_size=0.4,random_state=1)\n"
   ],
   "metadata": {
    "collapsed": false
   }
  },
  {
   "cell_type": "code",
   "execution_count": 12,
   "outputs": [
    {
     "data": {
      "text/plain": "KNeighborsClassifier(n_neighbors=3)"
     },
     "execution_count": 12,
     "metadata": {},
     "output_type": "execute_result"
    }
   ],
   "source": [
    "from sklearn.neighbors import KNeighborsClassifier\n",
    "\n",
    "model = KNeighborsClassifier(n_neighbors=3)\n",
    "model.fit(x_train, y_train)"
   ],
   "metadata": {
    "collapsed": false
   }
  },
  {
   "cell_type": "code",
   "execution_count": 13,
   "outputs": [
    {
     "name": "stdout",
     "output_type": "stream",
     "text": [
      "Accuracy: 0.9833333333333333\n"
     ]
    },
    {
     "name": "stderr",
     "output_type": "stream",
     "text": [
      "/home/sammidev/anaconda3/lib/python3.9/site-packages/sklearn/neighbors/_classification.py:228: FutureWarning: Unlike other reduction functions (e.g. `skew`, `kurtosis`), the default behavior of `mode` typically preserves the axis it acts along. In SciPy 1.11.0, this behavior will change: the default value of `keepdims` will become False, the `axis` over which the statistic is taken will be eliminated, and the value None will no longer be accepted. Set `keepdims` to True or False to avoid this warning.\n",
      "  mode, _ = stats.mode(_y[neigh_ind, k], axis=1)\n"
     ]
    }
   ],
   "source": [
    "from sklearn.metrics import accuracy_score\n",
    "\n",
    "y_pred = model.predict(x_test)\n",
    "acc = accuracy_score(y_test, y_pred)\n",
    "print(f'Accuracy: {acc}')"
   ],
   "metadata": {
    "collapsed": false
   }
  },
  {
   "cell_type": "code",
   "execution_count": 14,
   "outputs": [
    {
     "name": "stderr",
     "output_type": "stream",
     "text": [
      "/home/sammidev/anaconda3/lib/python3.9/site-packages/sklearn/neighbors/_classification.py:228: FutureWarning: Unlike other reduction functions (e.g. `skew`, `kurtosis`), the default behavior of `mode` typically preserves the axis it acts along. In SciPy 1.11.0, this behavior will change: the default value of `keepdims` will become False, the `axis` over which the statistic is taken will be eliminated, and the value None will no longer be accepted. Set `keepdims` to True or False to avoid this warning.\n",
      "  mode, _ = stats.mode(_y[neigh_ind, k], axis=1)\n"
     ]
    },
    {
     "data": {
      "text/plain": "array([1, 2])"
     },
     "execution_count": 14,
     "metadata": {},
     "output_type": "execute_result"
    }
   ],
   "source": [
    "data_baru = [\n",
    "    [5,5,3,2],\n",
    "    [2,4,3,5],\n",
    "]\n",
    "\n",
    "preds = model.predict(data_baru)\n",
    "preds"
   ],
   "metadata": {
    "collapsed": false
   }
  },
  {
   "cell_type": "code",
   "execution_count": 15,
   "outputs": [
    {
     "name": "stdout",
     "output_type": "stream",
     "text": [
      "Hasil prediksi: ['versicolor', 'virginica']\n"
     ]
    }
   ],
   "source": [
    "pred_species = [iris.target_names[p] for p in preds]\n",
    "print(f'Hasil prediksi: {pred_species}')"
   ],
   "metadata": {
    "collapsed": false
   }
  },
  {
   "cell_type": "code",
   "execution_count": 16,
   "outputs": [
    {
     "data": {
      "text/plain": "['iris_classifier_knn.joblib']"
     },
     "execution_count": 16,
     "metadata": {},
     "output_type": "execute_result"
    }
   ],
   "source": [
    "# dump & load trained model\n",
    "import joblib\n",
    "joblib.dump(model, 'iris_classifier_knn.joblib')"
   ],
   "metadata": {
    "collapsed": false
   }
  },
  {
   "cell_type": "code",
   "execution_count": 20,
   "outputs": [
    {
     "name": "stdout",
     "output_type": "stream",
     "text": [
      "Hasil prediksi: ['versicolor', 'virginica']\n"
     ]
    },
    {
     "name": "stderr",
     "output_type": "stream",
     "text": [
      "/home/sammidev/anaconda3/lib/python3.9/site-packages/sklearn/neighbors/_classification.py:228: FutureWarning: Unlike other reduction functions (e.g. `skew`, `kurtosis`), the default behavior of `mode` typically preserves the axis it acts along. In SciPy 1.11.0, this behavior will change: the default value of `keepdims` will become False, the `axis` over which the statistic is taken will be eliminated, and the value None will no longer be accepted. Set `keepdims` to True or False to avoid this warning.\n",
      "  mode, _ = stats.mode(_y[neigh_ind, k], axis=1)\n"
     ]
    }
   ],
   "source": [
    "production_model = joblib.load('iris_classifier_knn.joblib')\n",
    "production_model\n",
    "\n",
    "data_baru = [\n",
    "    [5,5,3,2],\n",
    "    [2,4,3,5],\n",
    "]\n",
    "\n",
    "preds_prod = production_model.predict(data_baru)\n",
    "pred_species = [iris.target_names[p] for p in preds_prod]\n",
    "print(f'Hasil prediksi: {pred_species}')"
   ],
   "metadata": {
    "collapsed": false
   }
  }
 ],
 "metadata": {
  "kernelspec": {
   "display_name": "Python 3",
   "language": "python",
   "name": "python3"
  },
  "language_info": {
   "codemirror_mode": {
    "name": "ipython",
    "version": 2
   },
   "file_extension": ".py",
   "mimetype": "text/x-python",
   "name": "python",
   "nbconvert_exporter": "python",
   "pygments_lexer": "ipython2",
   "version": "2.7.6"
  }
 },
 "nbformat": 4,
 "nbformat_minor": 0
}
