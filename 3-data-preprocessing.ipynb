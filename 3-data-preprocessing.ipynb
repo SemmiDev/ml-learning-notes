{
 "cells": [
  {
   "cell_type": "code",
   "execution_count": 1,
   "metadata": {
    "collapsed": true
   },
   "outputs": [
    {
     "data": {
      "text/plain": "array([[ 2.1, -1.9,  5.5],\n       [-1.5,  2.4,  3.5],\n       [ 0.5, -7.9,  5.6],\n       [ 5.9,  2.3, -5.8]])"
     },
     "execution_count": 1,
     "metadata": {},
     "output_type": "execute_result"
    }
   ],
   "source": [
    "import numpy as np\n",
    "from sklearn import preprocessing\n",
    "\n",
    "sample_data = np.array([\n",
    "    [2.1,-1.9,5.5],\n",
    "    [-1.5,2.4,3.5],\n",
    "    [0.5,-7.9,5.6],\n",
    "    [5.9,2.3,-5.8]\n",
    "])\n",
    "\n",
    "sample_data"
   ]
  },
  {
   "cell_type": "code",
   "execution_count": 2,
   "outputs": [
    {
     "data": {
      "text/plain": "(4, 3)"
     },
     "execution_count": 2,
     "metadata": {},
     "output_type": "execute_result"
    }
   ],
   "source": [
    "sample_data.shape"
   ],
   "metadata": {
    "collapsed": false
   }
  },
  {
   "cell_type": "code",
   "execution_count": 3,
   "outputs": [
    {
     "data": {
      "text/plain": "array([[1., 0., 1.],\n       [0., 1., 1.],\n       [0., 0., 1.],\n       [1., 1., 0.]])"
     },
     "execution_count": 3,
     "metadata": {},
     "output_type": "execute_result"
    }
   ],
   "source": [
    "# ubah data jadi 0 dan 1\n",
    "\n",
    "# threshold, nilai > 0.5 menjadi 1, selain itu ubah jadi 0\n",
    "\n",
    "preprocessor = preprocessing.Binarizer(threshold=0.5)\n",
    "binarised_data = preprocessor.transform(sample_data)\n",
    "binarised_data"
   ],
   "metadata": {
    "collapsed": false
   }
  },
  {
   "cell_type": "code",
   "execution_count": 5,
   "outputs": [
    {
     "data": {
      "text/plain": "array([[0.48648649, 0.58252427, 0.99122807],\n       [0.        , 1.        , 0.81578947],\n       [0.27027027, 0.        , 1.        ],\n       [1.        , 0.99029126, 0.        ]])"
     },
     "execution_count": 5,
     "metadata": {},
     "output_type": "execute_result"
    }
   ],
   "source": [
    "# scaling\n",
    "# ubah data jadi range tertentu\n",
    "\n",
    "preprocessor = preprocessing.MinMaxScaler(feature_range=(0,1))\n",
    "preprocessor.fit(sample_data)\n",
    "scaled_data = preprocessor.transform(sample_data)\n",
    "scaled_data"
   ],
   "metadata": {
    "collapsed": false
   }
  },
  {
   "cell_type": "code",
   "execution_count": 7,
   "outputs": [
    {
     "data": {
      "text/plain": "array([[ 0.22105263, -0.2       ,  0.57894737],\n       [-0.2027027 ,  0.32432432,  0.47297297],\n       [ 0.03571429, -0.56428571,  0.4       ],\n       [ 0.42142857,  0.16428571, -0.41428571]])"
     },
     "execution_count": 7,
     "metadata": {},
     "output_type": "execute_result"
    }
   ],
   "source": [
    "# normalisasi\n",
    "sample_data\n",
    "\n",
    "# list absolute deviations = l1\n",
    "\n",
    "l1_normalised_data = preprocessing.normalize(sample_data, norm=\"l1\")\n",
    "l1_normalised_data"
   ],
   "metadata": {
    "collapsed": false
   }
  },
  {
   "cell_type": "code",
   "execution_count": 9,
   "outputs": [
    {
     "data": {
      "text/plain": "array([[ 0.33946114, -0.30713151,  0.88906489],\n       [-0.33325106,  0.53320169,  0.7775858 ],\n       [ 0.05156558, -0.81473612,  0.57753446],\n       [ 0.68706914,  0.26784051, -0.6754239 ]])"
     },
     "execution_count": 9,
     "metadata": {},
     "output_type": "execute_result"
    }
   ],
   "source": [
    "# normalisasi\n",
    "sample_data\n",
    "\n",
    "# least square = l2\n",
    "\n",
    "l2_normalised_data = preprocessing.normalize(sample_data, norm=\"l2\")\n",
    "l2_normalised_data"
   ],
   "metadata": {
    "collapsed": false
   }
  }
 ],
 "metadata": {
  "kernelspec": {
   "display_name": "Python 3",
   "language": "python",
   "name": "python3"
  },
  "language_info": {
   "codemirror_mode": {
    "name": "ipython",
    "version": 2
   },
   "file_extension": ".py",
   "mimetype": "text/x-python",
   "name": "python",
   "nbconvert_exporter": "python",
   "pygments_lexer": "ipython2",
   "version": "2.7.6"
  }
 },
 "nbformat": 4,
 "nbformat_minor": 0
}
